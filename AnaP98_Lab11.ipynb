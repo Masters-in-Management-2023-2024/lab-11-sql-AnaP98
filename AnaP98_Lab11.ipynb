{
  "cells": [
    {
      "cell_type": "markdown",
      "metadata": {
        "id": "t8yPSehG_n6h"
      },
      "source": [
        "# Lab Exercise: SQL Analysis with Polars\n",
        "\n",
        "In this lab, you'll practice SQL queries using Polars' built-in SQL functionality. Complete each exercise by writing the appropriate SQL query."
      ]
    },
    {
      "cell_type": "code",
      "execution_count": 5,
      "metadata": {
        "colab": {
          "base_uri": "https://localhost:8080/"
        },
        "id": "dARtdBYL_n6i",
        "outputId": "ba5a2cf7-2f76-4f84-c94a-f0dfe9f55b40"
      },
      "outputs": [
        {
          "output_type": "stream",
          "name": "stdout",
          "text": [
            "Setup complete! Tables available:\n",
            "shape: (5, 1)\n",
            "┌──────────┐\n",
            "│ name     │\n",
            "│ ---      │\n",
            "│ str      │\n",
            "╞══════════╡\n",
            "│ airlines │\n",
            "│ airports │\n",
            "│ flights  │\n",
            "│ planes   │\n",
            "│ weather  │\n",
            "└──────────┘\n"
          ]
        },
        {
          "output_type": "stream",
          "name": "stderr",
          "text": [
            "/tmp/ipython-input-246987045.py:15: DeprecationWarning: The argument `eager_execution` for `SQLContext.__init__` is deprecated. It has been renamed to `eager`.\n",
            "  ctx = pl.SQLContext(\n"
          ]
        }
      ],
      "source": [
        "# Setup - Run this cell first\n",
        "import polars as pl\n",
        "\n",
        "# Load data\n",
        "airlines = pl.read_csv('https://raw.githubusercontent.com/philhetzel/opan5510-class11/refs/heads/main/data/nyc_airlines.csv')\n",
        "airports = pl.read_csv('https://raw.githubusercontent.com/philhetzel/opan5510-class11/refs/heads/main/data/nyc_airports.csv')\n",
        "flights = pl.read_csv('https://raw.githubusercontent.com/philhetzel/opan5510-class11/refs/heads/main/data/nyc_flights.csv', null_values ='NA')\n",
        "planes = pl.read_csv('https://raw.githubusercontent.com/philhetzel/opan5510-class11/refs/heads/main/data/nyc_planes.csv', null_values = 'NA')\n",
        "weather = pl.read_csv('https://raw.githubusercontent.com/philhetzel/opan5510-class11/refs/heads/main/data/nyc_weather.csv', null_values = 'NA', infer_schema_length = 1000)\n",
        "\n",
        "flights = flights.with_columns(pl.col(\"time_hour\").str.strptime(pl.Datetime))\n",
        "weather = weather.with_columns(pl.col(\"time_hour\").str.strptime(pl.Datetime))\n",
        "\n",
        "# Create SQL context\n",
        "ctx = pl.SQLContext(\n",
        "    airlines=airlines,\n",
        "    airports=airports,\n",
        "    flights=flights,\n",
        "    planes=planes,\n",
        "    weather=weather,\n",
        "    eager_execution=True\n",
        ")\n",
        "\n",
        "print(\"Setup complete! Tables available:\")\n",
        "print(ctx.execute(\"SHOW TABLES\"))\n"
      ]
    },
    {
      "cell_type": "markdown",
      "metadata": {
        "id": "p4a67n5E_n6j"
      },
      "source": [
        "## Exercise 1: Basic Queries\n",
        "\n",
        "### 1.1 Find all unique carriers in the airlines table"
      ]
    },
    {
      "cell_type": "code",
      "execution_count": 11,
      "metadata": {
        "colab": {
          "base_uri": "https://localhost:8080/"
        },
        "id": "OhjL8XWI_n6j",
        "outputId": "e3e206a1-bdf5-4628-8f18-f32926a75bf5"
      },
      "outputs": [
        {
          "output_type": "stream",
          "name": "stdout",
          "text": [
            "shape: (16, 1)\n",
            "┌─────────┐\n",
            "│ carrier │\n",
            "│ ---     │\n",
            "│ str     │\n",
            "╞═════════╡\n",
            "│ 9E      │\n",
            "│ AA      │\n",
            "│ AS      │\n",
            "│ B6      │\n",
            "│ DL      │\n",
            "│ …       │\n",
            "│ UA      │\n",
            "│ US      │\n",
            "│ VX      │\n",
            "│ WN      │\n",
            "│ YV      │\n",
            "└─────────┘\n"
          ]
        }
      ],
      "source": [
        "# Write your SQL query here\n",
        "result = ctx.execute(\"\"\"\n",
        "SELECT DISTINCT carrier\n",
        "FROM airlines;\n",
        "\"\"\")\n",
        "print(result)"
      ]
    },
    {
      "cell_type": "markdown",
      "metadata": {
        "id": "PCIMoozt_n6j"
      },
      "source": [
        "### 1.2 Find the top 10 destinations by number of flights"
      ]
    },
    {
      "cell_type": "code",
      "execution_count": 12,
      "metadata": {
        "colab": {
          "base_uri": "https://localhost:8080/"
        },
        "id": "tccPb8ah_n6k",
        "outputId": "09aec081-69e9-441b-f0f7-a12743accceb"
      },
      "outputs": [
        {
          "output_type": "stream",
          "name": "stdout",
          "text": [
            "shape: (10, 2)\n",
            "┌──────┬──────────────┐\n",
            "│ dest ┆ flight_count │\n",
            "│ ---  ┆ ---          │\n",
            "│ str  ┆ u32          │\n",
            "╞══════╪══════════════╡\n",
            "│ ORD  ┆ 17283        │\n",
            "│ ATL  ┆ 17215        │\n",
            "│ LAX  ┆ 16174        │\n",
            "│ BOS  ┆ 15508        │\n",
            "│ MCO  ┆ 14082        │\n",
            "│ CLT  ┆ 14064        │\n",
            "│ SFO  ┆ 13331        │\n",
            "│ FLL  ┆ 12055        │\n",
            "│ MIA  ┆ 11728        │\n",
            "│ DCA  ┆ 9705         │\n",
            "└──────┴──────────────┘\n"
          ]
        }
      ],
      "source": [
        "# Write your SQL query here\n",
        "result = ctx.execute(\"\"\"\n",
        "SELECT dest, COUNT(*) AS flight_count\n",
        "FROM flights\n",
        "GROUP BY dest\n",
        "ORDER BY flight_count DESC\n",
        "LIMIT 10;\n",
        "\"\"\")\n",
        "\n",
        "print(result)"
      ]
    },
    {
      "cell_type": "markdown",
      "metadata": {
        "id": "qXmo2Wt3_n6k"
      },
      "source": [
        "### 1.3 Find all flights that departed more than 2 hours late (120 minutes)"
      ]
    },
    {
      "cell_type": "code",
      "execution_count": 13,
      "metadata": {
        "colab": {
          "base_uri": "https://localhost:8080/"
        },
        "id": "fQaSbpLa_n6k",
        "outputId": "061b4e9a-f0b9-4bd5-d976-423d5f6977ba"
      },
      "outputs": [
        {
          "output_type": "stream",
          "name": "stdout",
          "text": [
            "shape: (9_723, 19)\n",
            "┌──────┬───────┬─────┬──────────┬───┬──────────┬──────┬────────┬─────────────────────────┐\n",
            "│ year ┆ month ┆ day ┆ dep_time ┆ … ┆ distance ┆ hour ┆ minute ┆ time_hour               │\n",
            "│ ---  ┆ ---   ┆ --- ┆ ---      ┆   ┆ ---      ┆ ---  ┆ ---    ┆ ---                     │\n",
            "│ i64  ┆ i64   ┆ i64 ┆ i64      ┆   ┆ i64      ┆ i64  ┆ i64    ┆ datetime[μs, UTC]       │\n",
            "╞══════╪═══════╪═════╪══════════╪═══╪══════════╪══════╪════════╪═════════════════════════╡\n",
            "│ 2013 ┆ 1     ┆ 1   ┆ 848      ┆ … ┆ 184      ┆ 18   ┆ 35     ┆ 2013-01-01 23:00:00 UTC │\n",
            "│ 2013 ┆ 1     ┆ 1   ┆ 957      ┆ … ┆ 200      ┆ 7    ┆ 33     ┆ 2013-01-01 12:00:00 UTC │\n",
            "│ 2013 ┆ 1     ┆ 1   ┆ 1114     ┆ … ┆ 1416     ┆ 9    ┆ 0      ┆ 2013-01-01 14:00:00 UTC │\n",
            "│ 2013 ┆ 1     ┆ 1   ┆ 1540     ┆ … ┆ 1598     ┆ 13   ┆ 38     ┆ 2013-01-01 18:00:00 UTC │\n",
            "│ 2013 ┆ 1     ┆ 1   ┆ 1815     ┆ … ┆ 1134     ┆ 13   ┆ 25     ┆ 2013-01-01 18:00:00 UTC │\n",
            "│ …    ┆ …     ┆ …   ┆ …        ┆ … ┆ …        ┆ …    ┆ …      ┆ …                       │\n",
            "│ 2013 ┆ 9     ┆ 30  ┆ 1823     ┆ … ┆ 765      ┆ 15   ┆ 45     ┆ 2013-09-30 19:00:00 UTC │\n",
            "│ 2013 ┆ 9     ┆ 30  ┆ 1951     ┆ … ┆ 708      ┆ 16   ┆ 49     ┆ 2013-09-30 20:00:00 UTC │\n",
            "│ 2013 ┆ 9     ┆ 30  ┆ 2053     ┆ … ┆ 746      ┆ 18   ┆ 15     ┆ 2013-09-30 22:00:00 UTC │\n",
            "│ 2013 ┆ 9     ┆ 30  ┆ 2159     ┆ … ┆ 301      ┆ 18   ┆ 45     ┆ 2013-09-30 22:00:00 UTC │\n",
            "│ 2013 ┆ 9     ┆ 30  ┆ 2235     ┆ … ┆ 944      ┆ 20   ┆ 1      ┆ 2013-10-01 00:00:00 UTC │\n",
            "└──────┴───────┴─────┴──────────┴───┴──────────┴──────┴────────┴─────────────────────────┘\n"
          ]
        }
      ],
      "source": [
        "# Write your SQL query here\n",
        "result = ctx.execute(\"\"\"\n",
        "SELECT *\n",
        "FROM flights\n",
        "WHERE dep_delay > 120;\n",
        "\"\"\")\n",
        "\n",
        "print(result)"
      ]
    },
    {
      "cell_type": "markdown",
      "metadata": {
        "id": "zPVomvCZ_n6k"
      },
      "source": [
        "## Exercise 2: Aggregation\n",
        "\n",
        "### 2.1 Calculate the average departure delay for each origin airport"
      ]
    },
    {
      "cell_type": "code",
      "execution_count": 14,
      "metadata": {
        "colab": {
          "base_uri": "https://localhost:8080/"
        },
        "id": "ZNrtIH0O_n6k",
        "outputId": "82c8dbc9-b33a-407b-a0ad-5082b7d5cd54"
      },
      "outputs": [
        {
          "output_type": "stream",
          "name": "stdout",
          "text": [
            "shape: (3, 2)\n",
            "┌────────┬───────────┐\n",
            "│ origin ┆ avg_delay │\n",
            "│ ---    ┆ ---       │\n",
            "│ str    ┆ f64       │\n",
            "╞════════╪═══════════╡\n",
            "│ EWR    ┆ 15.107954 │\n",
            "│ LGA    ┆ 10.346876 │\n",
            "│ JFK    ┆ 12.112159 │\n",
            "└────────┴───────────┘\n"
          ]
        }
      ],
      "source": [
        "# Write your SQL query here\n",
        "result = ctx.execute(\"\"\"\n",
        "SELECT origin, AVG(dep_delay) AS avg_delay\n",
        "FROM flights\n",
        "GROUP BY origin;\n",
        "\"\"\")\n",
        "\n",
        "print(result)"
      ]
    },
    {
      "cell_type": "markdown",
      "metadata": {
        "id": "noIh-Wx-_n6l"
      },
      "source": [
        "### 2.2 Find the busiest month of the year\n",
        "\n",
        "Count the number of flights per month and find which month has the most flights."
      ]
    },
    {
      "cell_type": "code",
      "execution_count": 17,
      "metadata": {
        "colab": {
          "base_uri": "https://localhost:8080/"
        },
        "id": "l3jJa5xu_n6l",
        "outputId": "af615fd0-9d87-455d-f78b-a447ed6cc8b0"
      },
      "outputs": [
        {
          "output_type": "stream",
          "name": "stdout",
          "text": [
            "shape: (336_776, 2)\n",
            "┌───────┬──────────────┐\n",
            "│ month ┆ flight_count │\n",
            "│ ---   ┆ ---          │\n",
            "│ i64   ┆ u32          │\n",
            "╞═══════╪══════════════╡\n",
            "│ 1     ┆ 336776       │\n",
            "│ 1     ┆ 336776       │\n",
            "│ 1     ┆ 336776       │\n",
            "│ 1     ┆ 336776       │\n",
            "│ 1     ┆ 336776       │\n",
            "│ …     ┆ …            │\n",
            "│ 9     ┆ 336776       │\n",
            "│ 9     ┆ 336776       │\n",
            "│ 9     ┆ 336776       │\n",
            "│ 9     ┆ 336776       │\n",
            "│ 9     ┆ 336776       │\n",
            "└───────┴──────────────┘\n",
            "shape: (1, 2)\n",
            "┌───────┬──────────────┐\n",
            "│ month ┆ flight_count │\n",
            "│ ---   ┆ ---          │\n",
            "│ i64   ┆ u32          │\n",
            "╞═══════╪══════════════╡\n",
            "│ 7     ┆ 29425        │\n",
            "└───────┴──────────────┘\n"
          ]
        }
      ],
      "source": [
        "# First, let's check what columns are available\n",
        "result = ctx.execute(\"\"\"\n",
        "SELECT month, COUNT(*) AS flight_count\n",
        "FROM flights\n",
        "\"\"\")\n",
        "print(result)\n",
        "\n",
        "# Now write your query to find the busiest month\n",
        "result = ctx.execute(\"\"\"\n",
        "SELECT month, COUNT(*) AS flight_count\n",
        "FROM flights\n",
        "GROUP BY month\n",
        "ORDER BY flight_count DESC\n",
        "LIMIT 1;\n",
        "\"\"\")\n",
        "print(result)\n",
        "\n"
      ]
    },
    {
      "cell_type": "markdown",
      "metadata": {
        "id": "v6IyDVlX_n6l"
      },
      "source": [
        "### 2.3 Calculate the on-time performance rate for each carrier\n",
        "\n",
        "Consider a flight on-time if the departure delay is <= 15 minutes."
      ]
    },
    {
      "cell_type": "code",
      "execution_count": 19,
      "metadata": {
        "colab": {
          "base_uri": "https://localhost:8080/"
        },
        "id": "qmb0FhWM_n6l",
        "outputId": "3efc36e2-4b67-4264-8b6d-3d11a4f59d8a"
      },
      "outputs": [
        {
          "output_type": "stream",
          "name": "stdout",
          "text": [
            "shape: (16, 2)\n",
            "┌─────────┬──────────────┐\n",
            "│ carrier ┆ on_time_rate │\n",
            "│ ---     ┆ ---          │\n",
            "│ str     ┆ f64          │\n",
            "╞═════════╪══════════════╡\n",
            "│ HA      ┆ 92.98        │\n",
            "│ AS      ┆ 86.55        │\n",
            "│ US      ┆ 84.99        │\n",
            "│ DL      ┆ 83.07        │\n",
            "│ AA      ┆ 82.44        │\n",
            "│ …       ┆ …            │\n",
            "│ FL      ┆ 71.69        │\n",
            "│ F9      ┆ 71.53        │\n",
            "│ 9E      ┆ 70.12        │\n",
            "│ EV      ┆ 65.92        │\n",
            "│ YV      ┆ 64.73        │\n",
            "└─────────┴──────────────┘\n"
          ]
        }
      ],
      "source": [
        "# Write your SQL query here\n",
        "result = ctx.execute(\"\"\"\n",
        "SELECT carrier,\n",
        "       ROUND(\n",
        "           (SUM(CASE WHEN dep_delay <= 15 THEN 1 ELSE 0 END) * 100.0 / COUNT (*)),\n",
        "           2\n",
        "       ) AS on_time_rate\n",
        "FROM flights\n",
        "GROUP BY carrier\n",
        "ORDER BY on_time_rate DESC;\n",
        "\"\"\")\n",
        "\n",
        "print(result)"
      ]
    },
    {
      "cell_type": "markdown",
      "metadata": {
        "id": "Y949ww86_n6l"
      },
      "source": [
        "## Exercise 3: Joins\n",
        "\n",
        "### 3.1 List all flights with their airline names (not just carrier codes)\n",
        "\n",
        "Show the first 20 flights with carrier code, airline name, flight number, origin, and destination."
      ]
    },
    {
      "cell_type": "code",
      "execution_count": 21,
      "metadata": {
        "colab": {
          "base_uri": "https://localhost:8080/"
        },
        "id": "1L92_8rm_n6l",
        "outputId": "1a1a932c-23e0-4c18-d60a-e0c640735cca"
      },
      "outputs": [
        {
          "output_type": "stream",
          "name": "stdout",
          "text": [
            "shape: (20, 5)\n",
            "┌─────────┬────────────────────────┬────────┬────────┬──────┐\n",
            "│ carrier ┆ airline_name           ┆ flight ┆ origin ┆ dest │\n",
            "│ ---     ┆ ---                    ┆ ---    ┆ ---    ┆ ---  │\n",
            "│ str     ┆ str                    ┆ i64    ┆ str    ┆ str  │\n",
            "╞═════════╪════════════════════════╪════════╪════════╪══════╡\n",
            "│ UA      ┆ United Air Lines Inc.  ┆ 1545   ┆ EWR    ┆ IAH  │\n",
            "│ UA      ┆ United Air Lines Inc.  ┆ 1714   ┆ LGA    ┆ IAH  │\n",
            "│ AA      ┆ American Airlines Inc. ┆ 1141   ┆ JFK    ┆ MIA  │\n",
            "│ B6      ┆ JetBlue Airways        ┆ 725    ┆ JFK    ┆ BQN  │\n",
            "│ DL      ┆ Delta Air Lines Inc.   ┆ 461    ┆ LGA    ┆ ATL  │\n",
            "│ …       ┆ …                      ┆ …      ┆ …      ┆ …    │\n",
            "│ B6      ┆ JetBlue Airways        ┆ 1806   ┆ JFK    ┆ BOS  │\n",
            "│ UA      ┆ United Air Lines Inc.  ┆ 1187   ┆ EWR    ┆ LAS  │\n",
            "│ B6      ┆ JetBlue Airways        ┆ 371    ┆ LGA    ┆ FLL  │\n",
            "│ MQ      ┆ Envoy Air              ┆ 4650   ┆ LGA    ┆ ATL  │\n",
            "│ B6      ┆ JetBlue Airways        ┆ 343    ┆ EWR    ┆ PBI  │\n",
            "└─────────┴────────────────────────┴────────┴────────┴──────┘\n"
          ]
        }
      ],
      "source": [
        "# Write your SQL query here\n",
        "result = ctx.execute(\"\"\"\n",
        "SELECT f.carrier, a.name AS airline_name, f.flight, f.origin, f.dest\n",
        "FROM flights AS f\n",
        "JOIN airlines AS a ON f.carrier = a.carrier\n",
        "LIMIT 20;\n",
        "\"\"\")\n",
        "\n",
        "print(result)"
      ]
    },
    {
      "cell_type": "markdown",
      "metadata": {
        "id": "sBD702Rz_n6l"
      },
      "source": [
        "### 3.2 Find the average age of planes for each carrier\n",
        "\n",
        "Hint: The planes table has a `year` column for manufacture year. Calculate age based on 2013."
      ]
    },
    {
      "cell_type": "code",
      "execution_count": 25,
      "metadata": {
        "colab": {
          "base_uri": "https://localhost:8080/"
        },
        "id": "p2oPpULl_n6l",
        "outputId": "62cd5576-587e-4dc5-80c4-ed8c4e47669a"
      },
      "outputs": [
        {
          "output_type": "stream",
          "name": "stdout",
          "text": [
            "shape: (16, 2)\n",
            "┌─────────┬───────────────┐\n",
            "│ carrier ┆ avg_plane_age │\n",
            "│ ---     ┆ ---           │\n",
            "│ str     ┆ f64           │\n",
            "╞═════════╪═══════════════╡\n",
            "│ MQ      ┆ 35.32         │\n",
            "│ AA      ┆ 25.87         │\n",
            "│ DL      ┆ 16.37         │\n",
            "│ UA      ┆ 13.21         │\n",
            "│ FL      ┆ 11.39         │\n",
            "│ …       ┆ …             │\n",
            "│ B6      ┆ 6.69          │\n",
            "│ F9      ┆ 4.88          │\n",
            "│ VX      ┆ 4.47          │\n",
            "│ AS      ┆ 3.34          │\n",
            "│ HA      ┆ 1.55          │\n",
            "└─────────┴───────────────┘\n"
          ]
        }
      ],
      "source": [
        "# Write your SQL query here\n",
        "result = ctx.execute(\"\"\"\n",
        "SELECT carrier, ROUND(AVG(2013 - p.year),2) AS avg_plane_age\n",
        "FROM flights AS f\n",
        "JOIN planes AS p ON f.tailnum = p.tailnum\n",
        "GROUP BY carrier\n",
        "ORDER BY avg_plane_age DESC;\n",
        "\"\"\")\n",
        "print(result)"
      ]
    },
    {
      "cell_type": "markdown",
      "metadata": {
        "id": "is8kZ9Mx_n6l"
      },
      "source": [
        "### 3.3 Find flights that experienced both departure delays and bad weather\n",
        "\n",
        "Join flights with weather data and find flights where departure delay > 30 minutes and either wind_speed > 20 or precip > 0.1"
      ]
    },
    {
      "cell_type": "code",
      "execution_count": 26,
      "metadata": {
        "colab": {
          "base_uri": "https://localhost:8080/"
        },
        "id": "wXKHE_Cx_n6m",
        "outputId": "6bc4cd89-1212-421f-99bd-05fc0b49f453"
      },
      "outputs": [
        {
          "output_type": "stream",
          "name": "stdout",
          "text": [
            "shape: (5, 15)\n",
            "┌────────┬──────┬───────┬─────┬───┬────────┬──────────┬───────┬─────────────────────────┐\n",
            "│ origin ┆ year ┆ month ┆ day ┆ … ┆ precip ┆ pressure ┆ visib ┆ time_hour               │\n",
            "│ ---    ┆ ---  ┆ ---   ┆ --- ┆   ┆ ---    ┆ ---      ┆ ---   ┆ ---                     │\n",
            "│ str    ┆ i64  ┆ i64   ┆ i64 ┆   ┆ f64    ┆ f64      ┆ f64   ┆ datetime[μs, UTC]       │\n",
            "╞════════╪══════╪═══════╪═════╪═══╪════════╪══════════╪═══════╪═════════════════════════╡\n",
            "│ EWR    ┆ 2013 ┆ 1     ┆ 1   ┆ … ┆ 0.0    ┆ 1012.0   ┆ 10.0  ┆ 2013-01-01 06:00:00 UTC │\n",
            "│ EWR    ┆ 2013 ┆ 1     ┆ 1   ┆ … ┆ 0.0    ┆ 1012.3   ┆ 10.0  ┆ 2013-01-01 07:00:00 UTC │\n",
            "│ EWR    ┆ 2013 ┆ 1     ┆ 1   ┆ … ┆ 0.0    ┆ 1012.5   ┆ 10.0  ┆ 2013-01-01 08:00:00 UTC │\n",
            "│ EWR    ┆ 2013 ┆ 1     ┆ 1   ┆ … ┆ 0.0    ┆ 1012.2   ┆ 10.0  ┆ 2013-01-01 09:00:00 UTC │\n",
            "│ EWR    ┆ 2013 ┆ 1     ┆ 1   ┆ … ┆ 0.0    ┆ 1011.9   ┆ 10.0  ┆ 2013-01-01 10:00:00 UTC │\n",
            "└────────┴──────┴───────┴─────┴───┴────────┴──────────┴───────┴─────────────────────────┘\n",
            "shape: (4_938, 9)\n",
            "┌──────┬───────┬─────┬───────────┬───┬────────┬────────┬──────┬────────┐\n",
            "│ year ┆ month ┆ day ┆ dep_delay ┆ … ┆ precip ┆ origin ┆ dest ┆ flight │\n",
            "│ ---  ┆ ---   ┆ --- ┆ ---       ┆   ┆ ---    ┆ ---    ┆ ---  ┆ ---    │\n",
            "│ i64  ┆ i64   ┆ i64 ┆ i64       ┆   ┆ f64    ┆ str    ┆ str  ┆ i64    │\n",
            "╞══════╪═══════╪═════╪═══════════╪═══╪════════╪════════╪══════╪════════╡\n",
            "│ 2013 ┆ 1     ┆ 1   ┆ 47        ┆ … ┆ 0.0    ┆ JFK    ┆ TPA  ┆ 21     │\n",
            "│ 2013 ┆ 1     ┆ 1   ┆ 116       ┆ … ┆ 0.0    ┆ JFK    ┆ LAS  ┆ 199    │\n",
            "│ 2013 ┆ 1     ┆ 4   ┆ 39        ┆ … ┆ 0.0    ┆ EWR    ┆ JAX  ┆ 4090   │\n",
            "│ 2013 ┆ 1     ┆ 4   ┆ 40        ┆ … ┆ 0.0    ┆ EWR    ┆ IAD  ┆ 4231   │\n",
            "│ 2013 ┆ 1     ┆ 4   ┆ 33        ┆ … ┆ 0.0    ┆ JFK    ┆ BOS  ┆ 1010   │\n",
            "│ …    ┆ …     ┆ …   ┆ …         ┆ … ┆ …      ┆ …      ┆ …    ┆ …      │\n",
            "│ 2013 ┆ 9     ┆ 22  ┆ 41        ┆ … ┆ 0.0    ┆ LGA    ┆ ATL  ┆ 2347   │\n",
            "│ 2013 ┆ 9     ┆ 22  ┆ 97        ┆ … ┆ 0.0    ┆ LGA    ┆ PIT  ┆ 5503   │\n",
            "│ 2013 ┆ 9     ┆ 22  ┆ 42        ┆ … ┆ 0.0    ┆ JFK    ┆ PHX  ┆ 135    │\n",
            "│ 2013 ┆ 9     ┆ 22  ┆ 46        ┆ … ┆ 0.0    ┆ JFK    ┆ LAX  ┆ 797    │\n",
            "│ 2013 ┆ 9     ┆ 22  ┆ 45        ┆ … ┆ 0.0    ┆ JFK    ┆ BOS  ┆ 985    │\n",
            "└──────┴───────┴─────┴───────────┴───┴────────┴────────┴──────┴────────┘\n"
          ]
        }
      ],
      "source": [
        "# First, explore the weather table structure\n",
        "result = ctx.execute(\"\"\"\n",
        "    SELECT *\n",
        "    FROM weather\n",
        "    LIMIT 5\n",
        "\"\"\")\n",
        "print(result)\n",
        "\n",
        "# Now write your join query\n",
        "result = ctx.execute(\"\"\"\n",
        "SELECT f.year, f.month, f.day, f.dep_delay, w.wind_speed, w.precip, f.origin, f.dest,f.flight\n",
        "FROM flights AS f\n",
        "JOIN weather AS w\n",
        "  ON f.year = w.year\n",
        " AND f.month = w.month\n",
        " AND f.day = w.day\n",
        " AND f.hour = w.hour\n",
        " AND f.origin = w.origin\n",
        "WHERE f.dep_delay > 30\n",
        "  AND (w.wind_speed > 20 OR w.precip > 0.1);\"\"\")\n",
        "\n",
        "print(result)"
      ]
    },
    {
      "cell_type": "markdown",
      "metadata": {
        "id": "TXrPKxzC_n6m"
      },
      "source": [
        "## Exercise 4: Advanced Queries\n",
        "\n",
        "### 4.1 Find the most popular aircraft types (by number of flights)\n",
        "\n",
        "Join flights with planes to get manufacturer and model information. Show top 10."
      ]
    },
    {
      "cell_type": "code",
      "execution_count": 28,
      "metadata": {
        "colab": {
          "base_uri": "https://localhost:8080/"
        },
        "id": "IzyB5FMj_n6m",
        "outputId": "e2cd9dd5-d30a-4cd0-d048-d2932623d5d1"
      },
      "outputs": [
        {
          "output_type": "stream",
          "name": "stdout",
          "text": [
            "shape: (10, 3)\n",
            "┌───────────────────────────────┬─────────────────┬──────────────┐\n",
            "│ manufacturer                  ┆ model           ┆ flight_count │\n",
            "│ ---                           ┆ ---             ┆ ---          │\n",
            "│ str                           ┆ str             ┆ u32          │\n",
            "╞═══════════════════════════════╪═════════════════╪══════════════╡\n",
            "│ AIRBUS                        ┆ A320-232        ┆ 31278        │\n",
            "│ EMBRAER                       ┆ EMB-145LR       ┆ 28027        │\n",
            "│ EMBRAER                       ┆ ERJ 190-100 IGW ┆ 23716        │\n",
            "│ AIRBUS INDUSTRIE              ┆ A320-232        ┆ 14553        │\n",
            "│ EMBRAER                       ┆ EMB-145XR       ┆ 14051        │\n",
            "│ BOEING                        ┆ 737-824         ┆ 13809        │\n",
            "│ BOMBARDIER INC                ┆ CL-600-2D24     ┆ 11807        │\n",
            "│ BOEING                        ┆ 737-7H4         ┆ 10389        │\n",
            "│ BOEING                        ┆ 757-222         ┆ 9150         │\n",
            "│ MCDONNELL DOUGLAS AIRCRAFT CO ┆ MD-88           ┆ 8932         │\n",
            "└───────────────────────────────┴─────────────────┴──────────────┘\n"
          ]
        }
      ],
      "source": [
        "# Write your SQL query here\n",
        "result = ctx.execute(\"\"\"\n",
        "SELECT p.manufacturer, p.model, COUNT(*) AS flight_count\n",
        "FROM flights AS f\n",
        "JOIN planes AS p ON f.tailnum = p.tailnum\n",
        "GROUP BY p.manufacturer, p.model\n",
        "ORDER BY flight_count DESC\n",
        "LIMIT 10;\n",
        "\"\"\")\n",
        "print(result)"
      ]
    },
    {
      "cell_type": "markdown",
      "metadata": {
        "id": "hHSf2_K9_n6m"
      },
      "source": [
        "### 4.2 Analyze route performance\n",
        "\n",
        "Find the top 10 routes (origin-destination pairs) with:\n",
        "- Total number of flights\n",
        "- Average departure delay\n",
        "- Percentage of flights delayed more than 30 minutes\n",
        "\n",
        "Include airport names, not just codes."
      ]
    },
    {
      "cell_type": "code",
      "execution_count": 74,
      "metadata": {
        "colab": {
          "base_uri": "https://localhost:8080/"
        },
        "id": "VHk908XI_n6m",
        "outputId": "9d8d248d-8425-42ae-cb1c-2c67f0705324"
      },
      "outputs": [
        {
          "output_type": "stream",
          "name": "stdout",
          "text": [
            "shape: (10, 7)\n",
            "┌─────────────┬──────────────┬───────────┬──────────────┬──────────────┬─────────────┬─────────────┐\n",
            "│ origin_code ┆ origin_name  ┆ dest_code ┆ dest_name    ┆ total_flight ┆ avg_dep_del ┆ pct_delayed │\n",
            "│ ---         ┆ ---          ┆ ---       ┆ ---          ┆ s            ┆ ay_minutes  ┆ _over_30    │\n",
            "│ str         ┆ str          ┆ str       ┆ str          ┆ ---          ┆ ---         ┆ ---         │\n",
            "│             ┆              ┆           ┆              ┆ u32          ┆ f64         ┆ f64         │\n",
            "╞═════════════╪══════════════╪═══════════╪══════════════╪══════════════╪═════════════╪═════════════╡\n",
            "│ JFK         ┆ John F       ┆ LAX       ┆ Los Angeles  ┆ 11196        ┆ 8.52        ┆ 9.89        │\n",
            "│             ┆ Kennedy Intl ┆           ┆ Intl         ┆              ┆             ┆             │\n",
            "│ LGA         ┆ La Guardia   ┆ ATL       ┆ Hartsfield   ┆ 10082        ┆ 11.45       ┆ 12.47       │\n",
            "│             ┆              ┆           ┆ Jackson      ┆              ┆             ┆             │\n",
            "│             ┆              ┆           ┆ Atlanta Int… ┆              ┆             ┆             │\n",
            "│ LGA         ┆ La Guardia   ┆ ORD       ┆ Chicago      ┆ 8548         ┆ 10.74       ┆ 13.83       │\n",
            "│             ┆              ┆           ┆ Ohare Intl   ┆              ┆             ┆             │\n",
            "│ JFK         ┆ John F       ┆ SFO       ┆ San          ┆ 8138         ┆ 11.95       ┆ 12.21       │\n",
            "│             ┆ Kennedy Intl ┆           ┆ Francisco    ┆              ┆             ┆             │\n",
            "│             ┆              ┆           ┆ Intl         ┆              ┆             ┆             │\n",
            "│ LGA         ┆ La Guardia   ┆ CLT       ┆ Charlotte    ┆ 5969         ┆ 8.97        ┆ 12.35       │\n",
            "│             ┆              ┆           ┆ Douglas Intl ┆              ┆             ┆             │\n",
            "│ EWR         ┆ Newark       ┆ ORD       ┆ Chicago      ┆ 5851         ┆ 14.64       ┆ 16.68       │\n",
            "│             ┆ Liberty Intl ┆           ┆ Ohare Intl   ┆              ┆             ┆             │\n",
            "│ JFK         ┆ John F       ┆ BOS       ┆ General      ┆ 5786         ┆ 11.69       ┆ 14.03       │\n",
            "│             ┆ Kennedy Intl ┆           ┆ Edward       ┆              ┆             ┆             │\n",
            "│             ┆              ┆           ┆ Lawrence     ┆              ┆             ┆             │\n",
            "│             ┆              ┆           ┆ Logan …      ┆              ┆             ┆             │\n",
            "│ LGA         ┆ La Guardia   ┆ MIA       ┆ Miami Intl   ┆ 5725         ┆ 7.36        ┆ 9.55        │\n",
            "│ JFK         ┆ John F       ┆ MCO       ┆ Orlando Intl ┆ 5434         ┆ 10.6        ┆ 12.79       │\n",
            "│             ┆ Kennedy Intl ┆           ┆              ┆              ┆             ┆             │\n",
            "│ EWR         ┆ Newark       ┆ BOS       ┆ General      ┆ 5251         ┆ 12.55       ┆ 15.12       │\n",
            "│             ┆ Liberty Intl ┆           ┆ Edward       ┆              ┆             ┆             │\n",
            "│             ┆              ┆           ┆ Lawrence     ┆              ┆             ┆             │\n",
            "│             ┆              ┆           ┆ Logan …      ┆              ┆             ┆             │\n",
            "└─────────────┴──────────────┴───────────┴──────────────┴──────────────┴─────────────┴─────────────┘\n"
          ]
        }
      ],
      "source": [
        "# Write your SQL query here\n",
        "\n",
        "result = ctx.execute(\"\"\"\n",
        "SELECT\n",
        "  f.origin                                   AS origin_code,\n",
        "  ao.origin_name                             AS origin_name,\n",
        "  f.dest                                     AS dest_code,\n",
        "  ad.dest_name                               AS dest_name,\n",
        "  COUNT(*)                                   AS total_flights,\n",
        "  ROUND(AVG(CAST(f.dep_delay AS DOUBLE)), 2) AS avg_dep_delay_minutes,\n",
        "  ROUND(\n",
        "      100.0 * AVG(CASE WHEN CAST(f.dep_delay AS DOUBLE) > 30 THEN 1 ELSE 0 END),\n",
        "      2\n",
        "  )                                          AS pct_delayed_over_30\n",
        "FROM flights AS f\n",
        "JOIN (\n",
        "  SELECT faa, name AS origin_name\n",
        "  FROM airports\n",
        ") AS ao\n",
        "  ON ao.faa = f.origin\n",
        "JOIN (\n",
        "  SELECT faa, name AS dest_name\n",
        "  FROM airports\n",
        ") AS ad\n",
        "  ON ad.faa = f.dest\n",
        "WHERE f.origin IS NOT NULL\n",
        "  AND f.dest   IS NOT NULL\n",
        "  AND f.dep_delay IS NOT NULL\n",
        "GROUP BY\n",
        "  f.origin, ao.origin_name, f.dest, ad.dest_name\n",
        "ORDER BY total_flights DESC\n",
        "LIMIT 10\n",
        "\"\"\")\n",
        "\n",
        "print(result)"
      ]
    },
    {
      "cell_type": "markdown",
      "metadata": {
        "id": "vXLIhqul_n6m"
      },
      "source": [
        "## Bonus: Compare with Polars\n",
        "\n",
        "### Choose one of the queries above and implement it using Polars\n",
        "\n",
        "This will help you understand the relationship between SQL and Polars operations."
      ]
    },
    {
      "cell_type": "code",
      "execution_count": 60,
      "metadata": {
        "colab": {
          "base_uri": "https://localhost:8080/"
        },
        "id": "iA9HZO9Q_n6m",
        "outputId": "e40adb3d-278f-4b28-acd7-6ae5b86308f6"
      },
      "outputs": [
        {
          "output_type": "stream",
          "name": "stdout",
          "text": [
            "SQL Result:\n",
            "shape: (3, 2)\n",
            "┌────────┬───────────┐\n",
            "│ origin ┆ avg_delay │\n",
            "│ ---    ┆ ---       │\n",
            "│ str    ┆ f64       │\n",
            "╞════════╪═══════════╡\n",
            "│ EWR    ┆ 15.107954 │\n",
            "│ JFK    ┆ 12.112159 │\n",
            "│ LGA    ┆ 10.346876 │\n",
            "└────────┴───────────┘\n",
            "\n",
            "Polars Result:\n",
            "shape: (3, 2)\n",
            "┌────────┬───────────┐\n",
            "│ origin ┆ avg_delay │\n",
            "│ ---    ┆ ---       │\n",
            "│ str    ┆ f64       │\n",
            "╞════════╪═══════════╡\n",
            "│ EWR    ┆ 15.107954 │\n",
            "│ JFK    ┆ 12.112159 │\n",
            "│ LGA    ┆ 10.346876 │\n",
            "└────────┴───────────┘\n"
          ]
        }
      ],
      "source": [
        "# Example: Let's implement Exercise 2.1 (average delay by origin) in Polars\n",
        "\n",
        "# SQL version (for reference)\n",
        "sql_result = ctx.execute(\"\"\"\n",
        "    SELECT\n",
        "        origin,\n",
        "        AVG(dep_delay) as avg_delay\n",
        "    FROM flights\n",
        "    WHERE dep_delay IS NOT NULL\n",
        "    GROUP BY origin\n",
        "    ORDER BY avg_delay DESC\n",
        "\"\"\")\n",
        "\n",
        "# Polars version\n",
        "polars_result = (\n",
        "    flights\n",
        "    .filter(pl.col('dep_delay').is_not_null())\n",
        "    .group_by('origin')\n",
        "    .agg(pl.col('dep_delay').mean().alias('avg_delay'))\n",
        "    .sort('avg_delay', descending=True)\n",
        ")\n",
        "\n",
        "print(\"SQL Result:\")\n",
        "print(sql_result)\n",
        "print(\"\\nPolars Result:\")\n",
        "print(polars_result)\n",
        "\n",
        "# Now implement one of your own queries in Polars below:\n",
        "# Your Polars code here"
      ]
    },
    {
      "cell_type": "code",
      "source": [
        "# Bonus :\n",
        "\n",
        "sql_result = ctx.execute(\"\"\"\n",
        "    SELECT\n",
        "        month,\n",
        "        COUNT(*) AS flight_count\n",
        "    FROM flights\n",
        "    GROUP BY month\n",
        "    ORDER BY flight_count DESC\n",
        "    LIMIT 1\n",
        "\"\"\")\n",
        "\n",
        "# Polars version\n",
        "polars_result = (\n",
        "    flights\n",
        "    .group_by(\"month\")\n",
        "    .agg(pl.len().alias(\"flight_count\"))\n",
        "    .sort(\"flight_count\", descending=True)\n",
        "    .head(1)  # Solo el mes más ocupado\n",
        ")\n",
        "\n",
        "print(\"SQL Result:\")\n",
        "print(sql_result)\n",
        "\n",
        "print(\"\\nPolars Result:\")\n",
        "print(polars_result)"
      ],
      "metadata": {
        "colab": {
          "base_uri": "https://localhost:8080/"
        },
        "id": "wSsi5dWxyHTB",
        "outputId": "b499f073-3e54-456d-cb60-1e446ad07525"
      },
      "execution_count": 61,
      "outputs": [
        {
          "output_type": "stream",
          "name": "stdout",
          "text": [
            "SQL Result:\n",
            "shape: (1, 2)\n",
            "┌───────┬──────────────┐\n",
            "│ month ┆ flight_count │\n",
            "│ ---   ┆ ---          │\n",
            "│ i64   ┆ u32          │\n",
            "╞═══════╪══════════════╡\n",
            "│ 7     ┆ 29425        │\n",
            "└───────┴──────────────┘\n",
            "\n",
            "Polars Result:\n",
            "shape: (1, 2)\n",
            "┌───────┬──────────────┐\n",
            "│ month ┆ flight_count │\n",
            "│ ---   ┆ ---          │\n",
            "│ i64   ┆ u32          │\n",
            "╞═══════╪══════════════╡\n",
            "│ 7     ┆ 29425        │\n",
            "└───────┴──────────────┘\n"
          ]
        }
      ]
    }
  ],
  "metadata": {
    "kernelspec": {
      "display_name": "Python 3",
      "language": "python",
      "name": "python3"
    },
    "language_info": {
      "codemirror_mode": {
        "name": "ipython",
        "version": 3
      },
      "file_extension": ".py",
      "mimetype": "text/x-python",
      "name": "python",
      "nbconvert_exporter": "python",
      "pygments_lexer": "ipython3",
      "version": "3.8.0"
    },
    "colab": {
      "provenance": []
    }
  },
  "nbformat": 4,
  "nbformat_minor": 0
}